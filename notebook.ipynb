{
 "cells": [
  {
   "cell_type": "markdown",
   "id": "prostate-arizona",
   "metadata": {
    "id": "bA5ajAmk7XH6"
   },
   "source": [
    "# Reducing the number of high fatality accidents\n",
    "\n",
    "## 📖 Background\n",
    "You work for the road safety team within the department of transport and are looking into how they can reduce the number of serious accidents. The safety team classes serious accidents as fatal accidents involving 3+ casualties. They are trying to learn more about the characteristics of these serious accidents so they can brainstorm interventions that could lower the number of deaths. They have asked for your assistance with answering a number of questions."
   ]
  },
  {
   "cell_type": "markdown",
   "id": "suspected-substitute",
   "metadata": {
    "id": "TAezigD_8u-1"
   },
   "source": [
    "## 💾 The data\n",
    "The reporting department have been collecting data on every accident that is reported. They've included this along with a lookup file for 2020's accidents.\n",
    "\n",
    "*Published by the department for transport. https://data.gov.uk/dataset/road-accidents-safety-data* \n",
    "*Contains public sector information licensed under the Open Government Licence v3.0.*"
   ]
  },
  {
   "cell_type": "code",
   "execution_count": 49,
   "id": "dee38c91-b8a5-4a97-8215-13c6d72946c3",
   "metadata": {},
   "outputs": [],
   "source": [
    "# import packages\n",
    "import pandas as pd\n",
    "import numpy as np\n",
    "import matplotlib.pyplot as plt\n",
    "import seaborn as sns\n",
    "from scipy.stats import chi2_contingency\n",
    "%matplotlib inline\n",
    "import statsmodels.api as sm\n",
    "\n",
    "plt.rc(\"font\", size=12)\n",
    "sns.set(style=\"white\")\n",
    "sns.set(style=\"whitegrid\", color_codes=True)"
   ]
  },
  {
   "cell_type": "code",
   "execution_count": 50,
   "id": "uniform-isolation",
   "metadata": {},
   "outputs": [
    {
     "data": {
      "text/html": [
       "<div>\n",
       "<style scoped>\n",
       "    .dataframe tbody tr th:only-of-type {\n",
       "        vertical-align: middle;\n",
       "    }\n",
       "\n",
       "    .dataframe tbody tr th {\n",
       "        vertical-align: top;\n",
       "    }\n",
       "\n",
       "    .dataframe thead th {\n",
       "        text-align: right;\n",
       "    }\n",
       "</style>\n",
       "<table border=\"1\" class=\"dataframe\">\n",
       "  <thead>\n",
       "    <tr style=\"text-align: right;\">\n",
       "      <th></th>\n",
       "      <th>accident_index</th>\n",
       "      <th>accident_year</th>\n",
       "      <th>accident_reference</th>\n",
       "      <th>longitude</th>\n",
       "      <th>latitude</th>\n",
       "      <th>accident_severity</th>\n",
       "      <th>number_of_vehicles</th>\n",
       "      <th>number_of_casualties</th>\n",
       "      <th>date</th>\n",
       "      <th>day_of_week</th>\n",
       "      <th>...</th>\n",
       "      <th>second_road_class</th>\n",
       "      <th>second_road_number</th>\n",
       "      <th>pedestrian_crossing_human_control</th>\n",
       "      <th>pedestrian_crossing_physical_facilities</th>\n",
       "      <th>light_conditions</th>\n",
       "      <th>weather_conditions</th>\n",
       "      <th>road_surface_conditions</th>\n",
       "      <th>special_conditions_at_site</th>\n",
       "      <th>carriageway_hazards</th>\n",
       "      <th>urban_or_rural_area</th>\n",
       "    </tr>\n",
       "  </thead>\n",
       "  <tbody>\n",
       "    <tr>\n",
       "      <th>0</th>\n",
       "      <td>2020010219808</td>\n",
       "      <td>2020</td>\n",
       "      <td>10219808</td>\n",
       "      <td>-0.254001</td>\n",
       "      <td>51.462262</td>\n",
       "      <td>3</td>\n",
       "      <td>1</td>\n",
       "      <td>1</td>\n",
       "      <td>04/02/2020</td>\n",
       "      <td>3</td>\n",
       "      <td>...</td>\n",
       "      <td>6</td>\n",
       "      <td>0</td>\n",
       "      <td>9</td>\n",
       "      <td>9</td>\n",
       "      <td>1</td>\n",
       "      <td>9</td>\n",
       "      <td>9</td>\n",
       "      <td>0</td>\n",
       "      <td>0</td>\n",
       "      <td>1</td>\n",
       "    </tr>\n",
       "    <tr>\n",
       "      <th>1</th>\n",
       "      <td>2020010220496</td>\n",
       "      <td>2020</td>\n",
       "      <td>10220496</td>\n",
       "      <td>-0.139253</td>\n",
       "      <td>51.470327</td>\n",
       "      <td>3</td>\n",
       "      <td>1</td>\n",
       "      <td>2</td>\n",
       "      <td>27/04/2020</td>\n",
       "      <td>2</td>\n",
       "      <td>...</td>\n",
       "      <td>6</td>\n",
       "      <td>0</td>\n",
       "      <td>0</td>\n",
       "      <td>4</td>\n",
       "      <td>1</td>\n",
       "      <td>1</td>\n",
       "      <td>1</td>\n",
       "      <td>0</td>\n",
       "      <td>0</td>\n",
       "      <td>1</td>\n",
       "    </tr>\n",
       "    <tr>\n",
       "      <th>2</th>\n",
       "      <td>2020010228005</td>\n",
       "      <td>2020</td>\n",
       "      <td>10228005</td>\n",
       "      <td>-0.178719</td>\n",
       "      <td>51.529614</td>\n",
       "      <td>3</td>\n",
       "      <td>1</td>\n",
       "      <td>1</td>\n",
       "      <td>01/01/2020</td>\n",
       "      <td>4</td>\n",
       "      <td>...</td>\n",
       "      <td>6</td>\n",
       "      <td>0</td>\n",
       "      <td>0</td>\n",
       "      <td>0</td>\n",
       "      <td>4</td>\n",
       "      <td>1</td>\n",
       "      <td>2</td>\n",
       "      <td>0</td>\n",
       "      <td>0</td>\n",
       "      <td>1</td>\n",
       "    </tr>\n",
       "    <tr>\n",
       "      <th>3</th>\n",
       "      <td>2020010228006</td>\n",
       "      <td>2020</td>\n",
       "      <td>10228006</td>\n",
       "      <td>-0.001683</td>\n",
       "      <td>51.541210</td>\n",
       "      <td>2</td>\n",
       "      <td>1</td>\n",
       "      <td>1</td>\n",
       "      <td>01/01/2020</td>\n",
       "      <td>4</td>\n",
       "      <td>...</td>\n",
       "      <td>6</td>\n",
       "      <td>0</td>\n",
       "      <td>0</td>\n",
       "      <td>4</td>\n",
       "      <td>4</td>\n",
       "      <td>1</td>\n",
       "      <td>1</td>\n",
       "      <td>0</td>\n",
       "      <td>0</td>\n",
       "      <td>1</td>\n",
       "    </tr>\n",
       "    <tr>\n",
       "      <th>4</th>\n",
       "      <td>2020010228011</td>\n",
       "      <td>2020</td>\n",
       "      <td>10228011</td>\n",
       "      <td>-0.137592</td>\n",
       "      <td>51.515704</td>\n",
       "      <td>3</td>\n",
       "      <td>1</td>\n",
       "      <td>2</td>\n",
       "      <td>01/01/2020</td>\n",
       "      <td>4</td>\n",
       "      <td>...</td>\n",
       "      <td>5</td>\n",
       "      <td>0</td>\n",
       "      <td>0</td>\n",
       "      <td>0</td>\n",
       "      <td>4</td>\n",
       "      <td>1</td>\n",
       "      <td>1</td>\n",
       "      <td>0</td>\n",
       "      <td>0</td>\n",
       "      <td>1</td>\n",
       "    </tr>\n",
       "  </tbody>\n",
       "</table>\n",
       "<p>5 rows × 27 columns</p>\n",
       "</div>"
      ],
      "text/plain": [
       "  accident_index  accident_year accident_reference  longitude   latitude  \\\n",
       "0  2020010219808           2020           10219808  -0.254001  51.462262   \n",
       "1  2020010220496           2020           10220496  -0.139253  51.470327   \n",
       "2  2020010228005           2020           10228005  -0.178719  51.529614   \n",
       "3  2020010228006           2020           10228006  -0.001683  51.541210   \n",
       "4  2020010228011           2020           10228011  -0.137592  51.515704   \n",
       "\n",
       "   accident_severity  number_of_vehicles  number_of_casualties        date  \\\n",
       "0                  3                   1                     1  04/02/2020   \n",
       "1                  3                   1                     2  27/04/2020   \n",
       "2                  3                   1                     1  01/01/2020   \n",
       "3                  2                   1                     1  01/01/2020   \n",
       "4                  3                   1                     2  01/01/2020   \n",
       "\n",
       "   day_of_week  ... second_road_class  second_road_number  \\\n",
       "0            3  ...                 6                   0   \n",
       "1            2  ...                 6                   0   \n",
       "2            4  ...                 6                   0   \n",
       "3            4  ...                 6                   0   \n",
       "4            4  ...                 5                   0   \n",
       "\n",
       "   pedestrian_crossing_human_control  pedestrian_crossing_physical_facilities  \\\n",
       "0                                  9                                        9   \n",
       "1                                  0                                        4   \n",
       "2                                  0                                        0   \n",
       "3                                  0                                        4   \n",
       "4                                  0                                        0   \n",
       "\n",
       "   light_conditions  weather_conditions  road_surface_conditions  \\\n",
       "0                 1                   9                        9   \n",
       "1                 1                   1                        1   \n",
       "2                 4                   1                        2   \n",
       "3                 4                   1                        1   \n",
       "4                 4                   1                        1   \n",
       "\n",
       "   special_conditions_at_site  carriageway_hazards  urban_or_rural_area  \n",
       "0                           0                    0                    1  \n",
       "1                           0                    0                    1  \n",
       "2                           0                    0                    1  \n",
       "3                           0                    0                    1  \n",
       "4                           0                    0                    1  \n",
       "\n",
       "[5 rows x 27 columns]"
      ]
     },
     "execution_count": 50,
     "metadata": {},
     "output_type": "execute_result"
    }
   ],
   "source": [
    "accidents = pd.read_csv(r'./data/accident-data.csv')\n",
    "accidents.head()"
   ]
  },
  {
   "cell_type": "code",
   "execution_count": 51,
   "id": "8fa0fbab-f786-4007-ad0b-26c8fb9e86b8",
   "metadata": {},
   "outputs": [],
   "source": [
    "# accidents.shape # (91199, 27)"
   ]
  },
  {
   "cell_type": "code",
   "execution_count": 52,
   "id": "f143d115-ec2b-45ac-aebf-52218c6b99b3",
   "metadata": {},
   "outputs": [
    {
     "data": {
      "text/html": [
       "<div>\n",
       "<style scoped>\n",
       "    .dataframe tbody tr th:only-of-type {\n",
       "        vertical-align: middle;\n",
       "    }\n",
       "\n",
       "    .dataframe tbody tr th {\n",
       "        vertical-align: top;\n",
       "    }\n",
       "\n",
       "    .dataframe thead th {\n",
       "        text-align: right;\n",
       "    }\n",
       "</style>\n",
       "<table border=\"1\" class=\"dataframe\">\n",
       "  <thead>\n",
       "    <tr style=\"text-align: right;\">\n",
       "      <th></th>\n",
       "      <th>accident_year</th>\n",
       "      <th>longitude</th>\n",
       "      <th>latitude</th>\n",
       "      <th>accident_severity</th>\n",
       "      <th>number_of_vehicles</th>\n",
       "      <th>number_of_casualties</th>\n",
       "      <th>day_of_week</th>\n",
       "      <th>first_road_class</th>\n",
       "      <th>first_road_number</th>\n",
       "      <th>road_type</th>\n",
       "      <th>...</th>\n",
       "      <th>second_road_class</th>\n",
       "      <th>second_road_number</th>\n",
       "      <th>pedestrian_crossing_human_control</th>\n",
       "      <th>pedestrian_crossing_physical_facilities</th>\n",
       "      <th>light_conditions</th>\n",
       "      <th>weather_conditions</th>\n",
       "      <th>road_surface_conditions</th>\n",
       "      <th>special_conditions_at_site</th>\n",
       "      <th>carriageway_hazards</th>\n",
       "      <th>urban_or_rural_area</th>\n",
       "    </tr>\n",
       "  </thead>\n",
       "  <tbody>\n",
       "    <tr>\n",
       "      <th>count</th>\n",
       "      <td>91199.0</td>\n",
       "      <td>91185.000000</td>\n",
       "      <td>91185.000000</td>\n",
       "      <td>91199.000000</td>\n",
       "      <td>91199.000000</td>\n",
       "      <td>91199.000000</td>\n",
       "      <td>91199.000000</td>\n",
       "      <td>91199.000000</td>\n",
       "      <td>91199.000000</td>\n",
       "      <td>91199.000000</td>\n",
       "      <td>...</td>\n",
       "      <td>91199.000000</td>\n",
       "      <td>91199.000000</td>\n",
       "      <td>91199.000000</td>\n",
       "      <td>91199.000000</td>\n",
       "      <td>91199.000000</td>\n",
       "      <td>91199.000000</td>\n",
       "      <td>91199.000000</td>\n",
       "      <td>91199.000000</td>\n",
       "      <td>91199.000000</td>\n",
       "      <td>91199.000000</td>\n",
       "    </tr>\n",
       "    <tr>\n",
       "      <th>mean</th>\n",
       "      <td>2020.0</td>\n",
       "      <td>-1.189258</td>\n",
       "      <td>52.351073</td>\n",
       "      <td>2.768232</td>\n",
       "      <td>1.835272</td>\n",
       "      <td>1.267382</td>\n",
       "      <td>4.121558</td>\n",
       "      <td>4.220320</td>\n",
       "      <td>790.666071</td>\n",
       "      <td>5.256001</td>\n",
       "      <td>...</td>\n",
       "      <td>5.551771</td>\n",
       "      <td>220.231987</td>\n",
       "      <td>0.352975</td>\n",
       "      <td>1.185309</td>\n",
       "      <td>2.065308</td>\n",
       "      <td>1.702047</td>\n",
       "      <td>1.391583</td>\n",
       "      <td>0.244740</td>\n",
       "      <td>0.180594</td>\n",
       "      <td>1.323205</td>\n",
       "    </tr>\n",
       "    <tr>\n",
       "      <th>std</th>\n",
       "      <td>0.0</td>\n",
       "      <td>1.367786</td>\n",
       "      <td>1.327573</td>\n",
       "      <td>0.456682</td>\n",
       "      <td>0.677272</td>\n",
       "      <td>0.681473</td>\n",
       "      <td>1.932200</td>\n",
       "      <td>1.443475</td>\n",
       "      <td>1580.817743</td>\n",
       "      <td>1.684878</td>\n",
       "      <td>...</td>\n",
       "      <td>1.015113</td>\n",
       "      <td>913.692832</td>\n",
       "      <td>1.698116</td>\n",
       "      <td>2.445924</td>\n",
       "      <td>1.747690</td>\n",
       "      <td>1.845786</td>\n",
       "      <td>0.925690</td>\n",
       "      <td>1.318554</td>\n",
       "      <td>1.149791</td>\n",
       "      <td>0.468031</td>\n",
       "    </tr>\n",
       "    <tr>\n",
       "      <th>min</th>\n",
       "      <td>2020.0</td>\n",
       "      <td>-7.497375</td>\n",
       "      <td>49.970479</td>\n",
       "      <td>1.000000</td>\n",
       "      <td>1.000000</td>\n",
       "      <td>1.000000</td>\n",
       "      <td>1.000000</td>\n",
       "      <td>1.000000</td>\n",
       "      <td>0.000000</td>\n",
       "      <td>1.000000</td>\n",
       "      <td>...</td>\n",
       "      <td>1.000000</td>\n",
       "      <td>-1.000000</td>\n",
       "      <td>-1.000000</td>\n",
       "      <td>-1.000000</td>\n",
       "      <td>-1.000000</td>\n",
       "      <td>-1.000000</td>\n",
       "      <td>-1.000000</td>\n",
       "      <td>-1.000000</td>\n",
       "      <td>-1.000000</td>\n",
       "      <td>1.000000</td>\n",
       "    </tr>\n",
       "    <tr>\n",
       "      <th>25%</th>\n",
       "      <td>2020.0</td>\n",
       "      <td>-2.107789</td>\n",
       "      <td>51.457237</td>\n",
       "      <td>3.000000</td>\n",
       "      <td>1.000000</td>\n",
       "      <td>1.000000</td>\n",
       "      <td>2.000000</td>\n",
       "      <td>3.000000</td>\n",
       "      <td>0.000000</td>\n",
       "      <td>6.000000</td>\n",
       "      <td>...</td>\n",
       "      <td>6.000000</td>\n",
       "      <td>0.000000</td>\n",
       "      <td>0.000000</td>\n",
       "      <td>0.000000</td>\n",
       "      <td>1.000000</td>\n",
       "      <td>1.000000</td>\n",
       "      <td>1.000000</td>\n",
       "      <td>0.000000</td>\n",
       "      <td>0.000000</td>\n",
       "      <td>1.000000</td>\n",
       "    </tr>\n",
       "    <tr>\n",
       "      <th>50%</th>\n",
       "      <td>2020.0</td>\n",
       "      <td>-1.046912</td>\n",
       "      <td>51.763385</td>\n",
       "      <td>3.000000</td>\n",
       "      <td>2.000000</td>\n",
       "      <td>1.000000</td>\n",
       "      <td>4.000000</td>\n",
       "      <td>4.000000</td>\n",
       "      <td>34.000000</td>\n",
       "      <td>6.000000</td>\n",
       "      <td>...</td>\n",
       "      <td>6.000000</td>\n",
       "      <td>0.000000</td>\n",
       "      <td>0.000000</td>\n",
       "      <td>0.000000</td>\n",
       "      <td>1.000000</td>\n",
       "      <td>1.000000</td>\n",
       "      <td>1.000000</td>\n",
       "      <td>0.000000</td>\n",
       "      <td>0.000000</td>\n",
       "      <td>1.000000</td>\n",
       "    </tr>\n",
       "    <tr>\n",
       "      <th>75%</th>\n",
       "      <td>2020.0</td>\n",
       "      <td>-0.125238</td>\n",
       "      <td>53.297386</td>\n",
       "      <td>3.000000</td>\n",
       "      <td>2.000000</td>\n",
       "      <td>1.000000</td>\n",
       "      <td>6.000000</td>\n",
       "      <td>6.000000</td>\n",
       "      <td>538.000000</td>\n",
       "      <td>6.000000</td>\n",
       "      <td>...</td>\n",
       "      <td>6.000000</td>\n",
       "      <td>0.000000</td>\n",
       "      <td>0.000000</td>\n",
       "      <td>0.000000</td>\n",
       "      <td>4.000000</td>\n",
       "      <td>1.000000</td>\n",
       "      <td>2.000000</td>\n",
       "      <td>0.000000</td>\n",
       "      <td>0.000000</td>\n",
       "      <td>2.000000</td>\n",
       "    </tr>\n",
       "    <tr>\n",
       "      <th>max</th>\n",
       "      <td>2020.0</td>\n",
       "      <td>1.756257</td>\n",
       "      <td>60.541144</td>\n",
       "      <td>3.000000</td>\n",
       "      <td>13.000000</td>\n",
       "      <td>41.000000</td>\n",
       "      <td>7.000000</td>\n",
       "      <td>6.000000</td>\n",
       "      <td>9174.000000</td>\n",
       "      <td>9.000000</td>\n",
       "      <td>...</td>\n",
       "      <td>6.000000</td>\n",
       "      <td>9174.000000</td>\n",
       "      <td>9.000000</td>\n",
       "      <td>9.000000</td>\n",
       "      <td>7.000000</td>\n",
       "      <td>9.000000</td>\n",
       "      <td>9.000000</td>\n",
       "      <td>9.000000</td>\n",
       "      <td>9.000000</td>\n",
       "      <td>3.000000</td>\n",
       "    </tr>\n",
       "  </tbody>\n",
       "</table>\n",
       "<p>8 rows × 23 columns</p>\n",
       "</div>"
      ],
      "text/plain": [
       "       accident_year     longitude      latitude  accident_severity  \\\n",
       "count        91199.0  91185.000000  91185.000000       91199.000000   \n",
       "mean          2020.0     -1.189258     52.351073           2.768232   \n",
       "std              0.0      1.367786      1.327573           0.456682   \n",
       "min           2020.0     -7.497375     49.970479           1.000000   \n",
       "25%           2020.0     -2.107789     51.457237           3.000000   \n",
       "50%           2020.0     -1.046912     51.763385           3.000000   \n",
       "75%           2020.0     -0.125238     53.297386           3.000000   \n",
       "max           2020.0      1.756257     60.541144           3.000000   \n",
       "\n",
       "       number_of_vehicles  number_of_casualties   day_of_week  \\\n",
       "count        91199.000000          91199.000000  91199.000000   \n",
       "mean             1.835272              1.267382      4.121558   \n",
       "std              0.677272              0.681473      1.932200   \n",
       "min              1.000000              1.000000      1.000000   \n",
       "25%              1.000000              1.000000      2.000000   \n",
       "50%              2.000000              1.000000      4.000000   \n",
       "75%              2.000000              1.000000      6.000000   \n",
       "max             13.000000             41.000000      7.000000   \n",
       "\n",
       "       first_road_class  first_road_number     road_type  ...  \\\n",
       "count      91199.000000       91199.000000  91199.000000  ...   \n",
       "mean           4.220320         790.666071      5.256001  ...   \n",
       "std            1.443475        1580.817743      1.684878  ...   \n",
       "min            1.000000           0.000000      1.000000  ...   \n",
       "25%            3.000000           0.000000      6.000000  ...   \n",
       "50%            4.000000          34.000000      6.000000  ...   \n",
       "75%            6.000000         538.000000      6.000000  ...   \n",
       "max            6.000000        9174.000000      9.000000  ...   \n",
       "\n",
       "       second_road_class  second_road_number  \\\n",
       "count       91199.000000        91199.000000   \n",
       "mean            5.551771          220.231987   \n",
       "std             1.015113          913.692832   \n",
       "min             1.000000           -1.000000   \n",
       "25%             6.000000            0.000000   \n",
       "50%             6.000000            0.000000   \n",
       "75%             6.000000            0.000000   \n",
       "max             6.000000         9174.000000   \n",
       "\n",
       "       pedestrian_crossing_human_control  \\\n",
       "count                       91199.000000   \n",
       "mean                            0.352975   \n",
       "std                             1.698116   \n",
       "min                            -1.000000   \n",
       "25%                             0.000000   \n",
       "50%                             0.000000   \n",
       "75%                             0.000000   \n",
       "max                             9.000000   \n",
       "\n",
       "       pedestrian_crossing_physical_facilities  light_conditions  \\\n",
       "count                             91199.000000      91199.000000   \n",
       "mean                                  1.185309          2.065308   \n",
       "std                                   2.445924          1.747690   \n",
       "min                                  -1.000000         -1.000000   \n",
       "25%                                   0.000000          1.000000   \n",
       "50%                                   0.000000          1.000000   \n",
       "75%                                   0.000000          4.000000   \n",
       "max                                   9.000000          7.000000   \n",
       "\n",
       "       weather_conditions  road_surface_conditions  \\\n",
       "count        91199.000000             91199.000000   \n",
       "mean             1.702047                 1.391583   \n",
       "std              1.845786                 0.925690   \n",
       "min             -1.000000                -1.000000   \n",
       "25%              1.000000                 1.000000   \n",
       "50%              1.000000                 1.000000   \n",
       "75%              1.000000                 2.000000   \n",
       "max              9.000000                 9.000000   \n",
       "\n",
       "       special_conditions_at_site  carriageway_hazards  urban_or_rural_area  \n",
       "count                91199.000000         91199.000000         91199.000000  \n",
       "mean                     0.244740             0.180594             1.323205  \n",
       "std                      1.318554             1.149791             0.468031  \n",
       "min                     -1.000000            -1.000000             1.000000  \n",
       "25%                      0.000000             0.000000             1.000000  \n",
       "50%                      0.000000             0.000000             1.000000  \n",
       "75%                      0.000000             0.000000             2.000000  \n",
       "max                      9.000000             9.000000             3.000000  \n",
       "\n",
       "[8 rows x 23 columns]"
      ]
     },
     "execution_count": 52,
     "metadata": {},
     "output_type": "execute_result"
    }
   ],
   "source": [
    "accidents.describe()"
   ]
  },
  {
   "cell_type": "code",
   "execution_count": 53,
   "id": "40fd7dcb-b77b-4c4d-8f06-1365225e7496",
   "metadata": {},
   "outputs": [
    {
     "data": {
      "text/html": [
       "<div>\n",
       "<style scoped>\n",
       "    .dataframe tbody tr th:only-of-type {\n",
       "        vertical-align: middle;\n",
       "    }\n",
       "\n",
       "    .dataframe tbody tr th {\n",
       "        vertical-align: top;\n",
       "    }\n",
       "\n",
       "    .dataframe thead th {\n",
       "        text-align: right;\n",
       "    }\n",
       "</style>\n",
       "<table border=\"1\" class=\"dataframe\">\n",
       "  <thead>\n",
       "    <tr style=\"text-align: right;\">\n",
       "      <th></th>\n",
       "      <th>table</th>\n",
       "      <th>field name</th>\n",
       "      <th>code/format</th>\n",
       "      <th>label</th>\n",
       "      <th>note</th>\n",
       "    </tr>\n",
       "  </thead>\n",
       "  <tbody>\n",
       "    <tr>\n",
       "      <th>0</th>\n",
       "      <td>Accident</td>\n",
       "      <td>accident_index</td>\n",
       "      <td>NaN</td>\n",
       "      <td>NaN</td>\n",
       "      <td>unique value for each accident. The accident_i...</td>\n",
       "    </tr>\n",
       "    <tr>\n",
       "      <th>1</th>\n",
       "      <td>Accident</td>\n",
       "      <td>accident_year</td>\n",
       "      <td>NaN</td>\n",
       "      <td>NaN</td>\n",
       "      <td>NaN</td>\n",
       "    </tr>\n",
       "    <tr>\n",
       "      <th>2</th>\n",
       "      <td>Accident</td>\n",
       "      <td>accident_reference</td>\n",
       "      <td>NaN</td>\n",
       "      <td>NaN</td>\n",
       "      <td>In year id used by the police to reference a c...</td>\n",
       "    </tr>\n",
       "    <tr>\n",
       "      <th>3</th>\n",
       "      <td>Accident</td>\n",
       "      <td>longitude</td>\n",
       "      <td>NaN</td>\n",
       "      <td>NaN</td>\n",
       "      <td>Null if not known</td>\n",
       "    </tr>\n",
       "    <tr>\n",
       "      <th>4</th>\n",
       "      <td>Accident</td>\n",
       "      <td>Latitude</td>\n",
       "      <td>NaN</td>\n",
       "      <td>NaN</td>\n",
       "      <td>Null if not known</td>\n",
       "    </tr>\n",
       "  </tbody>\n",
       "</table>\n",
       "</div>"
      ],
      "text/plain": [
       "      table          field name code/format label  \\\n",
       "0  Accident      accident_index         NaN   NaN   \n",
       "1  Accident       accident_year         NaN   NaN   \n",
       "2  Accident  accident_reference         NaN   NaN   \n",
       "3  Accident           longitude         NaN   NaN   \n",
       "4  Accident            Latitude         NaN   NaN   \n",
       "\n",
       "                                                note  \n",
       "0  unique value for each accident. The accident_i...  \n",
       "1                                                NaN  \n",
       "2  In year id used by the police to reference a c...  \n",
       "3                                  Null if not known  \n",
       "4                                  Null if not known  "
      ]
     },
     "execution_count": 53,
     "metadata": {},
     "output_type": "execute_result"
    }
   ],
   "source": [
    "lookup = pd.read_csv(r'./data/road-safety-lookups.csv')\n",
    "lookup.head(5)"
   ]
  },
  {
   "cell_type": "markdown",
   "id": "recent-boards",
   "metadata": {
    "id": "Rm2MvBfC9mYK",
    "tags": []
   },
   "source": [
    "## 💪 Competition challenge\n",
    "\n",
    "Create a report that covers the following:\n",
    "\n",
    "1. What time of day and day of the week do most serious accidents happen?\n",
    "2. Are there any patterns in the time of day/ day of the week when serious accidents occur?\n",
    "3. What characteristics stand out in serious accidents compared with other accidents?\n",
    "4. On what areas would you recommend the planning team focus their brainstorming efforts to reduce serious accidents?"
   ]
  },
  {
   "cell_type": "markdown",
   "id": "young-evaluation",
   "metadata": {
    "id": "6zXWKexuHxE9"
   },
   "source": [
    "## 🧑‍⚖️ Judging criteria\n",
    "\n",
    "| CATEGORY | WEIGHTING | DETAILS                                                              |\n",
    "|:---------|:----------|:---------------------------------------------------------------------|\n",
    "| **Recommendations** | 35%       | <ul><li>Clarity of recommendations - how clear and well presented the recommendation is.</li><li>Quality of recommendations - are appropriate analytical techniques used & are the conclusions valid?</li><li>Number of relevant insights found for the target audience.</li></ul>       |\n",
    "| **Storytelling**  | 30%       | <ul><li>How well the data and insights are connected to the recommendation.</li><li>How the narrative and whole report connects together.</li><li>Balancing making the report in depth enough but also concise.</li></ul> |\n",
    "| **Visualizations** | 25% | <ul><li>Appropriateness of visualization used.</li><li>Clarity of insight from visualization.</li></ul> |\n",
    "| **Votes** | 10% | <ul><li>Up voting - most upvoted entries get the most points.</li></ul> |"
   ]
  },
  {
   "cell_type": "markdown",
   "id": "f0e743f6-4df4-4311-b0d6-7bfafbee8d89",
   "metadata": {},
   "source": [
    "## ✅ Checklist before publishing into the competition\n",
    "- Rename your workspace to make it descriptive of your work. N.B. you should leave the notebook name as notebook.ipynb.\n",
    "- Remove redundant cells like the judging criteria so the workbook is focused on your story.\n",
    "- Make sure the workbook reads well and explains how you found your insights.\n",
    "- Check that all the cells run without error."
   ]
  },
  {
   "cell_type": "markdown",
   "id": "71491e8e-31b3-40db-9298-d3c477ec6215",
   "metadata": {},
   "source": [
    "## ⌛️ Time is ticking. Good luck!"
   ]
  },
  {
   "cell_type": "code",
   "execution_count": 54,
   "id": "02eee1f5-033e-4648-9f57-31d267ca1554",
   "metadata": {},
   "outputs": [],
   "source": [
    "df = accidents # assign dataset to a new variable 'df'"
   ]
  },
  {
   "cell_type": "code",
   "execution_count": 55,
   "id": "de9fd626-cdcb-4b65-ae4d-cf196bd1a99c",
   "metadata": {},
   "outputs": [
    {
     "data": {
      "text/plain": [
       "accident_index                             0.000000\n",
       "accident_year                              0.000000\n",
       "accident_reference                         0.000000\n",
       "longitude                                  0.015351\n",
       "latitude                                   0.015351\n",
       "accident_severity                          0.000000\n",
       "number_of_vehicles                         0.000000\n",
       "number_of_casualties                       0.000000\n",
       "date                                       0.000000\n",
       "day_of_week                                0.000000\n",
       "time                                       0.000000\n",
       "first_road_class                           0.000000\n",
       "first_road_number                          0.000000\n",
       "road_type                                  0.000000\n",
       "speed_limit                                0.000000\n",
       "junction_detail                            0.000000\n",
       "junction_control                           0.000000\n",
       "second_road_class                          0.000000\n",
       "second_road_number                         0.000000\n",
       "pedestrian_crossing_human_control          0.000000\n",
       "pedestrian_crossing_physical_facilities    0.000000\n",
       "light_conditions                           0.000000\n",
       "weather_conditions                         0.000000\n",
       "road_surface_conditions                    0.000000\n",
       "special_conditions_at_site                 0.000000\n",
       "carriageway_hazards                        0.000000\n",
       "urban_or_rural_area                        0.000000\n",
       "dtype: float64"
      ]
     },
     "execution_count": 55,
     "metadata": {},
     "output_type": "execute_result"
    }
   ],
   "source": [
    "# some missingness in longitude and/or latitude but since they are less than 0.3, we can ignore\n",
    "df.isnull().sum()*100 / len(df)"
   ]
  },
  {
   "cell_type": "code",
   "execution_count": 56,
   "id": "a03bec01-d7fa-4168-b46e-54861e3537f3",
   "metadata": {},
   "outputs": [
    {
     "data": {
      "text/plain": [
       "0    86382\n",
       "1     4817\n",
       "Name: serious_accident, dtype: int64"
      ]
     },
     "execution_count": 56,
     "metadata": {},
     "output_type": "execute_result"
    }
   ],
   "source": [
    "# create a new categorical variable - 0 for < 3 casualities and 1 for >=3 casualities\n",
    "df['serious_accident'] = np.where(df['number_of_casualties'] >= 3, 1, 0)\n",
    "df['serious_accident'].value_counts()"
   ]
  },
  {
   "cell_type": "markdown",
   "id": "9f88d7f9-f67c-49f8-bb61-9195738c81a3",
   "metadata": {},
   "source": [
    "***New categorical has two classes***\n",
    "* 1 if number of casualities >= 3 and 0 if number of casualities < 3  \n",
    "* Out of all the records (n=91199), 5.3% of the records had number of casualities equals to 3 and more. "
   ]
  },
  {
   "cell_type": "markdown",
   "id": "426c9d33-2f34-4d19-88be-f1e62b41ca52",
   "metadata": {},
   "source": [
    "## Data Engineering"
   ]
  },
  {
   "cell_type": "code",
   "execution_count": 75,
   "id": "a96542ba-a1e3-4641-96bc-b5bf85d6cffb",
   "metadata": {},
   "outputs": [],
   "source": [
    "## Split date into month and day"
   ]
  },
  {
   "cell_type": "code",
   "execution_count": null,
   "id": "59efa275-0847-4343-a05a-69c7943138bf",
   "metadata": {},
   "outputs": [],
   "source": [
    "## Split time into a categorical variable"
   ]
  },
  {
   "cell_type": "code",
   "execution_count": null,
   "id": "29f48951-2cd7-46e0-b801-842fbfb8e349",
   "metadata": {},
   "outputs": [],
   "source": [
    "## "
   ]
  },
  {
   "cell_type": "code",
   "execution_count": null,
   "id": "20f61a26-ef77-4c46-bb5c-d38127fd1312",
   "metadata": {},
   "outputs": [],
   "source": []
  },
  {
   "cell_type": "markdown",
   "id": "ed7a526f-e464-46df-965d-ba29aa90e548",
   "metadata": {},
   "source": [
    "## Let's do some exploratory analysis!"
   ]
  },
  {
   "cell_type": "code",
   "execution_count": 57,
   "id": "d5ab2a9f-cc02-408f-88fe-54adf5c6f8cc",
   "metadata": {},
   "outputs": [
    {
     "data": {
      "image/png": "[encoded data removed]",
      "text/plain": [
       "<Figure size 432x288 with 1 Axes>"
      ]
     },
     "metadata": {},
     "output_type": "display_data"
    }
   ],
   "source": [
    "sns.countplot(x='serious_accident', data=df, palette='hls')\n",
    "plt.show()"
   ]
  },
  {
   "cell_type": "markdown",
   "id": "521acd22-e5b6-493a-a717-d6ac8712ff16",
   "metadata": {},
   "source": [
    "## 1. What time of day and day of the week do most serious accidents happen?"
   ]
  },
  {
   "cell_type": "code",
   "execution_count": 67,
   "id": "b642be71-8fa2-40d9-9888-ba912b51e87c",
   "metadata": {},
   "outputs": [
    {
     "data": {
      "text/html": [
       "<div>\n",
       "<style scoped>\n",
       "    .dataframe tbody tr th:only-of-type {\n",
       "        vertical-align: middle;\n",
       "    }\n",
       "\n",
       "    .dataframe tbody tr th {\n",
       "        vertical-align: top;\n",
       "    }\n",
       "\n",
       "    .dataframe thead th {\n",
       "        text-align: right;\n",
       "    }\n",
       "</style>\n",
       "<table border=\"1\" class=\"dataframe\">\n",
       "  <thead>\n",
       "    <tr style=\"text-align: right;\">\n",
       "      <th></th>\n",
       "      <th>day_of_week</th>\n",
       "    </tr>\n",
       "    <tr>\n",
       "      <th>serious_accident</th>\n",
       "      <th></th>\n",
       "    </tr>\n",
       "  </thead>\n",
       "  <tbody>\n",
       "    <tr>\n",
       "      <th>0</th>\n",
       "      <td>4.11918</td>\n",
       "    </tr>\n",
       "    <tr>\n",
       "      <th>1</th>\n",
       "      <td>4.16421</td>\n",
       "    </tr>\n",
       "  </tbody>\n",
       "</table>\n",
       "</div>"
      ],
      "text/plain": [
       "                  day_of_week\n",
       "serious_accident             \n",
       "0                     4.11918\n",
       "1                     4.16421"
      ]
     },
     "execution_count": 67,
     "metadata": {},
     "output_type": "execute_result"
    }
   ],
   "source": [
    "df[['serious_accident', 'day_of_week']].groupby('serious_accident').mean()"
   ]
  },
  {
   "cell_type": "markdown",
   "id": "3c7be25c-35ee-4dc0-963e-524dce62f27c",
   "metadata": {},
   "source": [
    "***Insight 1:*** From the output above, it seems like most of the serious accidents happen on Wednesday."
   ]
  },
  {
   "cell_type": "markdown",
   "id": "02dbeb3c-bdcd-4b79-aeb0-5c39082e432f",
   "metadata": {
    "tags": []
   },
   "source": [
    "## 2. Are there any patterns in the time of day/ day of the week when serious accidents occur?"
   ]
  },
  {
   "cell_type": "code",
   "execution_count": 62,
   "id": "d533fae4-3fb7-4dbd-9daa-95be741c49aa",
   "metadata": {},
   "outputs": [
    {
     "data": {
      "text/plain": [
       "Text(0, 0.5, 'Frequency')"
      ]
     },
     "execution_count": 62,
     "metadata": {},
     "output_type": "execute_result"
    },
    {
     "data": {
      "image/png": "[encoded data removed]",
      "text/plain": [
       "<Figure size 432x288 with 1 Axes>"
      ]
     },
     "metadata": {
      "needs_background": "light"
     },
     "output_type": "display_data"
    }
   ],
   "source": [
    "%matplotlib inline\n",
    "pd.crosstab(df.day_of_week,df.serious_accident).plot(kind='bar')\n",
    "plt.title('Frequency for Serious Accident')\n",
    "plt.xlabel('Serious Accident')\n",
    "plt.ylabel('Frequency')"
   ]
  },
  {
   "cell_type": "markdown",
   "id": "aa3b056d-93d5-4619-9c75-22ef8a40033d",
   "metadata": {},
   "source": [
    "When looking at the day of week, the pattern is not obvious, but let's look at the time of the day. "
   ]
  },
  {
   "cell_type": "code",
   "execution_count": 68,
   "id": "15878ed4-c56d-4440-a046-cec5053f4e55",
   "metadata": {},
   "outputs": [
    {
     "data": {
      "text/plain": [
       "Text(0, 0.5, 'Frequency')"
      ]
     },
     "execution_count": 68,
     "metadata": {},
     "output_type": "execute_result"
    },
    {
     "data": {
      "image/png": "[encoded data removed]",
      "text/plain": [
       "<Figure size 432x288 with 1 Axes>"
      ]
     },
     "metadata": {
      "needs_background": "light"
     },
     "output_type": "display_data"
    }
   ],
   "source": [
    "%matplotlib inline\n",
    "pd.crosstab(df.time,df.serious_accident).plot(kind='bar')\n",
    "plt.title('Frequency for Serious Accident')\n",
    "plt.xlabel('Serious Accident')\n",
    "plt.ylabel('Frequency')"
   ]
  },
  {
   "cell_type": "code",
   "execution_count": 71,
   "id": "3e2527aa-2ee8-4fc9-8723-e13d8e0092ba",
   "metadata": {},
   "outputs": [
    {
     "data": {
      "text/plain": [
       "Text(0, 0.5, 'Frequency')"
      ]
     },
     "execution_count": 71,
     "metadata": {},
     "output_type": "execute_result"
    },
    {
     "data": {
      "image/png": "[encoded data removed]",
      "text/plain": [
       "<Figure size 432x288 with 1 Axes>"
      ]
     },
     "metadata": {
      "needs_background": "light"
     },
     "output_type": "display_data"
    }
   ],
   "source": [
    "plt.figure(figsize=(8,4)) # this creates a figure 8 inch wide, 4 inch high\n",
    "%matplotlib inline\n",
    "pd.crosstab(df.time,df.serious_accident).plot(kind='bar')\n",
    "plt.title('Frequency for Serious Accident')\n",
    "plt.xlabel('Serious Accident')\n",
    "plt.ylabel('Frequency')"
   ]
  },
  {
   "cell_type": "code",
   "execution_count": 73,
   "id": "ef519c61-413a-41f5-be81-36d67ff43a87",
   "metadata": {},
   "outputs": [
    {
     "data": {
      "image/png": "[encoded data removed]",
      "text/plain": [
       "<Figure size 432x288 with 1 Axes>"
      ]
     },
     "metadata": {
      "needs_background": "light"
     },
     "output_type": "display_data"
    }
   ],
   "source": [
    "%matplotlib inline\n",
    "ax = sns.countplot(x=\"time\", hue='serious_accident', data=df)\n",
    "\n",
    "ax.set_xticklabels(ax.get_xticklabels(), rotation=40, ha=\"right\")\n",
    "plt.tight_layout()\n",
    "plt.show()"
   ]
  },
  {
   "cell_type": "markdown",
   "id": "7c732731-c191-4559-b525-a04ed5d5be71",
   "metadata": {
    "tags": []
   },
   "source": [
    "## 3. What characteristics stand out in serious accidents compared with other accidents?"
   ]
  },
  {
   "cell_type": "markdown",
   "id": "e6e39857-43b1-48bf-8312-41dcf1e302fc",
   "metadata": {},
   "source": [
    "## 4. On what areas would you recommend the planning team focus their brainstorming efforts to reduce serious accidents?"
   ]
  },
  {
   "cell_type": "code",
   "execution_count": null,
   "id": "8f94ab13-0068-4208-83eb-d2f4b8158cd5",
   "metadata": {},
   "outputs": [],
   "source": []
  }
 ],
 "metadata": {
  "colab": {
   "name": "Welcome to DataCamp Workspaces.ipynb",
   "provenance": []
  },
  "kernelspec": {
   "display_name": "Python 3 (ipykernel)",
   "language": "python",
   "name": "python3"
  },
  "language_info": {
   "codemirror_mode": {
    "name": "ipython",
    "version": 3
   },
   "file_extension": ".py",
   "mimetype": "text/x-python",
   "name": "python",
   "nbconvert_exporter": "python",
   "pygments_lexer": "ipython3",
   "version": "3.8.10"
  }
 },
 "nbformat": 4,
 "nbformat_minor": 5
}
